{
 "cells": [
  {
   "cell_type": "code",
   "execution_count": 11,
   "id": "1731199d",
   "metadata": {},
   "outputs": [],
   "source": [
    "import json\n",
    "import pandas as pd"
   ]
  },
  {
   "cell_type": "code",
   "execution_count": 12,
   "id": "970dd72d",
   "metadata": {},
   "outputs": [],
   "source": [
    "with open('subset.json') as f:\n",
    "    data = json.load(f)"
   ]
  },
  {
   "cell_type": "code",
   "execution_count": 3,
   "id": "c03d7ec9",
   "metadata": {},
   "outputs": [
    {
     "name": "stdout",
     "output_type": "stream",
     "text": [
      "70\n"
     ]
    }
   ],
   "source": [
    "def get_docs_from_id(id):\n",
    "    docs = []\n",
    "    for o in data:\n",
    "        if o['document_type_id'] == id:\n",
    "            docs.append(o)\n",
    "    return docs\n",
    "\n",
    "datas = get_docs_from_id(8)\n",
    "print(len(datas))"
   ]
  },
  {
   "cell_type": "code",
   "execution_count": 13,
   "id": "766123dc",
   "metadata": {
    "scrolled": true
   },
   "outputs": [],
   "source": [
    "texts = []\n",
    "for doc in datas:\n",
    "    pages = []\n",
    "    keys = list(doc.keys())\n",
    "    keys.pop()\n",
    "    keys.pop()\n",
    "    for key in keys:\n",
    "        text = \"\"\n",
    "        lines = doc[key]\n",
    "        for line in lines:\n",
    "            words = line['line']['words']\n",
    "            for w in words:\n",
    "                text += w['text'] + \" \"\n",
    "            text+='\\n'\n",
    "        pages.append(text)\n",
    "    texts.append(pages)"
   ]
  },
  {
   "cell_type": "code",
   "execution_count": 5,
   "id": "48e1097d",
   "metadata": {
    "scrolled": true
   },
   "outputs": [
    {
     "name": "stdout",
     "output_type": "stream",
     "text": [
      "PARTIE À CONSERVER PAR LE PRESCRIPTEUR \n",
      "ATTESTATION DE CONSULTATION ET CONSENTEMENT ECLAIRÉ \n",
      "Information et consentement de la femme enceinte à la réalisation d'une analyse portant sur les marqueurs sériques maternels \n",
      "(en référence à l'article R. 2131-1 du code de la santé publique). \n",
      "atteste avoir reçu, du médecin ou de la sage-femme (*) (nom, prénom) \n",
      "Je soussignée \n",
      "des informations sur \n",
      "au cours d'une consultation médicale en date du \n",
      "l'examen des sériques maternels dont je souhaite bénéficier \n",
      "cet examen permet marqueurs d'évaluer le risque que l'enfant à naître soit atteint d'une maladie d'une particulière gravité, notamment la trisomie 21 \n",
      "une prise de sang est réalisée au cours d'une période précise de la grossesse \n",
      "calcul de risque de trisomie 21 est effectué il prend notamment en compte les données fiables de l'échographie prénatale du premier trimestre, \n",
      "un résultats sont disponibles et que les mesures échographiques sont estimées \n",
      "le lorsque résultat ces est toujours exprimé en risque pour l'enfant à naître d'être atteint de la maladie. Ce risque ne permet pas à lui seul d'en établir le \n",
      "diagnostic le résultat du calcul de risque me sera rendu et expliqué par le médecin prescripteur ou un autre praticien ayant l'expérience du dépistage \n",
      "prénatal si le est faible, il n'écarte pas complètement la possibilité pour le fotus d'être atteint de trisomie 21 ou d'une autre Seul affection le \n",
      "si le risque risque est élevé, un prélèvement (de liquide amniotique, de villosités choriales ou de sang fotal) me sera proposé. résultat du \n",
      "Les risques, les contraintes et les éventuelles conséquences de chaque technique de prélèvement me seront expliqués. \n",
      "caryotype fotal permettra de confirmer ou non l'existence de l'affection. \n",
      "Je consens à la réalisation du dosage des marqueurs sériques maternels. \n",
      "de \n",
      "santé \n",
      "Le les dosage pratiquer. des marqueurs L'original du sériques présent maternels document sera est conservé effectué dans dans un mon laboratoire dossier médical. de biologie Une médicale copie de autorisé ce document par l'agence m'est régionale remise ainsi qu'au \n",
      "à devant effectuer les dosages biologiques et, le cas échéant, le calcul de risque. \n",
      "praticien Le laboratoire de biologie médicale dans lequel exerce le praticien ayant effectué les dosages et, le cas échéant, le calcul de risque conserve \n",
      "ce document dans les mêmes conditions que le compte rendu de l'examen. \n",
      "Signature du médecin ou de la sage-femme \n",
      "Signature de l'intéressée \n",
      "(*) Rayez la mention inutile. \n",
      "Date : \n",
      "PARTIE À CONSERVER PAR LA PATIENTE \n",
      "ATTESTATION DE CONSULTATION ET CONSENTEMENT ECLAIRÉ \n",
      "Information et consentement de la femme enceinte à la réalisation d'une analyse portant sur les marqueurs sériques maternels \n",
      "(en référence à l'article R. 2131-1 du code de la santé publique). \n",
      "atteste avoir reçu, du médecin ou de la sage-femme (*) (nom, prénom) \n",
      "Je soussignée \n",
      "Have \n",
      "Jan \n",
      "Belde \n",
      "Bellever \n",
      "au cours d'une consultation médicale en date du \n",
      "161219 \n",
      "des informations sur \n",
      "Ploreece \n",
      "l'examen des marqueurs sériques maternels dont je souhaite bénéficier \n",
      "cet examen permet d'évaluer le risque que l'enfant à naître soit atteint d'une maladie d'une particulière gravité, notamment la trisomie 21 \n",
      "une prise de sang est réalisée au cours d'une période précise de la grossesse \n",
      "un calcul de risque de trisomie 21 est effectué il prend notamment en compte les données de l'échographie prénatale du premier trimestre, \n",
      "lorsque ces résultats sont disponibles et que les mesures échographiques sont estimées fiables \n",
      "le résultat est toujours exprimé en risque pour l'enfant à naître d'être atteint de la maladie. Ce risque ne permet pas à lui seul d'en établir \n",
      "le \n",
      "diagnostic \n",
      "le \n",
      "résultat du calcul de risque me sera rendu et expliqué par le médecin prescripteur ou un autre praticien ayant l'expérience du dépistage \n",
      "prénatal \n",
      "si le risque est faible, il n'écarte pas complètement la possibilité pour le fotus d'être atteint de trisomie 21 ou d'une autre affection \n",
      "si le risque est élevé, un prélèvement (de liquide amniotique, de villosités choriales ou de sang fotal) me sera proposé. Seul le résultat du \n",
      "caryotype fotal permettra de confirmer ou non l'existence de l'affection. \n",
      "Les risques, les contraintes et les éventuelles conséquences de chaque technique de prélèvement me seront expliqués. \n",
      "Je consens à la réalisation du dosage des marqueurs sériques maternels. \n",
      "Le dosage des marqueurs sériques maternels sera effectué dans un laboratoire de biologie médicale autorisé par l'agence régionale de santé \n",
      "à \n",
      "les pratiquer. L'original du présent document est conservé dans mon dossier médical. Une copie de ce document m'est remise ainsi qu'au \n",
      "praticien devant effectuer les dosages biologiques et, le cas échéant, le calcul de risque. \n",
      "Le laboratoire de biologie médicale dans lequel exerce le praticien ayant effectué les dosages et, le cas échéant, le calcul de risque conserve \n",
      "ce document dans les mêmes conditions que le compte rendu de l'examen. \n",
      "(*) Rayez la mention inutile. \n",
      "Signature du médecin ou de la sage-femme \n",
      "Signature de l'intéressée \n",
      "Date 62,19 \n",
      "\n"
     ]
    }
   ],
   "source": [
    " print(texts[1][1])"
   ]
  },
  {
   "cell_type": "code",
   "execution_count": 6,
   "id": "32827cce",
   "metadata": {},
   "outputs": [],
   "source": [
    "import string\n",
    "def enlever_ponctuation(texte):\n",
    "    # Créer une chaîne de caractères contenant tous les symboles de ponctuation\n",
    "    ponctuation = ''.join([c for c in string.punctuation if c not in '/'])\n",
    "    \n",
    "    # Parcourir chaque caractère dans le texte et le remplacer par une chaîne vide s'il est un symbole de ponctuation\n",
    "    texte_sans_ponctuation = ''.join(caractere for caractere in texte if caractere not in ponctuation)\n",
    "\n",
    "    return texte_sans_ponctuation"
   ]
  },
  {
   "cell_type": "code",
   "execution_count": 7,
   "id": "70e9b5ff",
   "metadata": {},
   "outputs": [
    {
     "name": "stdout",
     "output_type": "stream",
     "text": [
      "!\"#$%&'()*+,-./:;<=>?@[\\]^_`{|}~\n"
     ]
    }
   ],
   "source": [
    "print(string.punctuation)"
   ]
  },
  {
   "cell_type": "code",
   "execution_count": 8,
   "id": "550c883b",
   "metadata": {},
   "outputs": [
    {
     "name": "stdout",
     "output_type": "stream",
     "text": [
      "['/ml', 'vlê/', 'u/i', 'tera/l', 'ng/ml', 'ufc/ml', 'ng/l', 'mmol/l', 'ml/min', 'pmol/l', 'pmol/l', 'uréase/', 'mu/i', 'ng/ml', 'g/l', 'uui/ml', 'a/l', 'mmoles/l', 'mmol/l', 'lt/sh', 'g/dl', '/l', '/s', 'gpo/pap', 'ui/ml', 'ufc/ml', 'ml/mn', 'pg/l', 'mui/l', 'meq/l', 'et/ou', 'giga/', 'téra/l', 'umol/l', 'ml/min', 'dossier/n°', 'mui/ml', 'umol/i', 'g/dl', 'pg/ml', 'ifu/ml', 'uui/ml', 'ui/mlcette', 'mu/', 'mul/ml', 't/l', 'ui/i', 'u/l', 'meq/l', 'ct/ng', 'umol/l', 'u/ml', 'pg/ml', 'ifu/ml', '/cmia', 't/l', 'cfu/ml', 's/co', 'ug/l', 'mui/ml', 'mg/mmol', 'immoles/l', 'mg/l', 'pui/ml', 'hdl/ldl', 'meg/l', 'g/l', 'g/w', 'cfu/ml', 'mg/l', 'mui/i', 'g/l', 'aebel/', 'ui/ml', 'ml/min/an', 'o//', '/', 'total/hdl', 'nmol/l', '/ml', '/w', 'ul/ml', 'nmol/l', 'ul/ml', 'ui/', 'g/l', 'giga/l', 'ug/l', 'e/s', 'nmoles/l', 'ui/l', 't/chol', 'mui/l', 'ccoignard/', 'e/vs', 'a/g', 'fr/access', 'mmol/mol', 'ag/ac', 'u/l']\n"
     ]
    }
   ],
   "source": [
    "from collections import defaultdict\n",
    "\n",
    "text = \"\"\n",
    "for doc in datas:\n",
    "    keys = list(doc.keys())\n",
    "    keys.pop()\n",
    "    keys.pop()\n",
    "    for key in keys:\n",
    "        lines = doc[key]\n",
    "        for line in lines:\n",
    "            words = line['line']['words']\n",
    "            for w in words:\n",
    "                text += enlever_ponctuation(w['text']) + \" \"\n",
    "\n",
    "f_m = defaultdict(int)\n",
    "\n",
    "for mot in text.split():\n",
    "    f_m[mot] += 1\n",
    "\n",
    "cle_d = [cle for cle in f_m.keys() if not any(char.isdigit() for char in cle)]\n",
    "cle_s = [cle for cle in f_m.keys() if '/' in cle and len(cle) <= 10]\n",
    "intersection = set(cle_d) & set(cle_s)\n",
    "    \n",
    "dictionnaire_filtre = {cle: f_m[cle] for cle in intersection}\n",
    "l = []\n",
    "for k in dictionnaire_filtre.keys():\n",
    "    l.append(k.lower())\n",
    "print(l)"
   ]
  },
  {
   "cell_type": "code",
   "execution_count": 9,
   "id": "7a2a913d",
   "metadata": {},
   "outputs": [],
   "source": [
    "texts = []\n",
    "for doc in datas:\n",
    "    text = \"\"\n",
    "    keys = list(doc.keys())\n",
    "    keys.pop()\n",
    "    keys.pop()\n",
    "    for key in keys:\n",
    "        lines = doc[key]\n",
    "        for line in lines:\n",
    "            words = line['line']['words']\n",
    "            for w in words:\n",
    "                text += w['text'] + \" \"\n",
    "    texts.append(text)"
   ]
  },
  {
   "cell_type": "code",
   "execution_count": 10,
   "id": "f5021c88",
   "metadata": {},
   "outputs": [
    {
     "name": "stderr",
     "output_type": "stream",
     "text": [
      "2023-07-05 10:02:50.418280: I tensorflow/core/platform/cpu_feature_guard.cc:182] This TensorFlow binary is optimized to use available CPU instructions in performance-critical operations.\n",
      "To enable the following instructions: AVX2 FMA, in other operations, rebuild TensorFlow with the appropriate compiler flags.\n",
      "2023-07-05 10:02:51.243184: W tensorflow/compiler/tf2tensorrt/utils/py_utils.cc:38] TF-TRT Warning: Could not find TensorRT\n"
     ]
    }
   ],
   "source": [
    "from transformers import pipeline"
   ]
  },
  {
   "cell_type": "code",
   "execution_count": null,
   "id": "18d0d010",
   "metadata": {},
   "outputs": [],
   "source": [
    "print(texts[0])"
   ]
  },
  {
   "cell_type": "code",
   "execution_count": 1,
   "id": "227af998",
   "metadata": {
    "scrolled": false
   },
   "outputs": [
    {
     "name": "stderr",
     "output_type": "stream",
     "text": [
      "2023-07-05 11:17:41.767059: I tensorflow/core/platform/cpu_feature_guard.cc:182] This TensorFlow binary is optimized to use available CPU instructions in performance-critical operations.\n",
      "To enable the following instructions: AVX2 FMA, in other operations, rebuild TensorFlow with the appropriate compiler flags.\n",
      "2023-07-05 11:17:42.772082: W tensorflow/compiler/tf2tensorrt/utils/py_utils.cc:38] TF-TRT Warning: Could not find TensorRT\n"
     ]
    },
    {
     "data": {
      "text/plain": [
       "[{'score': 0.999806821346283, 'answer': '25,5 U/ml', 'start': 207, 'end': 208}]"
      ]
     },
     "execution_count": 1,
     "metadata": {},
     "output_type": "execute_result"
    }
   ],
   "source": [
    "from transformers import pipeline\n",
    "\n",
    "nlp = pipeline(\n",
    "    \"document-question-answering\",\n",
    "    model=\"impira/layoutlm-document-qa\",\n",
    ")\n",
    "\n",
    "nlp(\n",
    "    \"https://upload.wikimedia.org/wikipedia/commons/9/90/R%C3%A9sultat_d%27une_prise_de_sang.jpg\",\n",
    "    \"what are the AFP ?\"\n",
    ")"
   ]
  },
  {
   "cell_type": "code",
   "execution_count": null,
   "id": "7a12b1d0",
   "metadata": {},
   "outputs": [],
   "source": []
  },
  {
   "cell_type": "code",
   "execution_count": null,
   "id": "cad24ff6",
   "metadata": {},
   "outputs": [],
   "source": []
  }
 ],
 "metadata": {
  "kernelspec": {
   "display_name": "Python 3 (ipykernel)",
   "language": "python",
   "name": "python3"
  },
  "language_info": {
   "codemirror_mode": {
    "name": "ipython",
    "version": 3
   },
   "file_extension": ".py",
   "mimetype": "text/x-python",
   "name": "python",
   "nbconvert_exporter": "python",
   "pygments_lexer": "ipython3",
   "version": "3.10.6"
  }
 },
 "nbformat": 4,
 "nbformat_minor": 5
}
