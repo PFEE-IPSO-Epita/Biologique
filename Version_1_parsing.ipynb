{
 "cells": [
  {
   "cell_type": "code",
   "execution_count": 1,
   "metadata": {},
   "outputs": [],
   "source": [
    "import json\n",
    "import pandas as pd\n",
    "import re"
   ]
  },
  {
   "cell_type": "markdown",
   "metadata": {},
   "source": [
    "# Données"
   ]
  },
  {
   "cell_type": "code",
   "execution_count": 2,
   "metadata": {},
   "outputs": [
    {
     "data": {
      "text/html": [
       "<div>\n",
       "<style scoped>\n",
       "    .dataframe tbody tr th:only-of-type {\n",
       "        vertical-align: middle;\n",
       "    }\n",
       "\n",
       "    .dataframe tbody tr th {\n",
       "        vertical-align: top;\n",
       "    }\n",
       "\n",
       "    .dataframe thead th {\n",
       "        text-align: right;\n",
       "    }\n",
       "</style>\n",
       "<table border=\"1\" class=\"dataframe\">\n",
       "  <thead>\n",
       "    <tr style=\"text-align: right;\">\n",
       "      <th></th>\n",
       "      <th>json_string</th>\n",
       "    </tr>\n",
       "  </thead>\n",
       "  <tbody>\n",
       "    <tr>\n",
       "      <th>0</th>\n",
       "      <td>{\"0\": [{\"line\": {\"words\": [{\"text\": \"cerfa\", \"...</td>\n",
       "    </tr>\n",
       "    <tr>\n",
       "      <th>1</th>\n",
       "      <td>{\"0\": [{\"line\": {\"words\": [{\"text\": \"Madame\", ...</td>\n",
       "    </tr>\n",
       "    <tr>\n",
       "      <th>2</th>\n",
       "      <td>{\"0\": [{\"line\": {\"words\": [{\"text\": \"CARTE\", \"...</td>\n",
       "    </tr>\n",
       "    <tr>\n",
       "      <th>3</th>\n",
       "      <td>{\"0\": [{\"line\": {\"words\": [{\"text\": \"SECURITY\"...</td>\n",
       "    </tr>\n",
       "    <tr>\n",
       "      <th>4</th>\n",
       "      <td>{\"0\": [{\"line\": {\"words\": [{\"text\": \"Docteur\",...</td>\n",
       "    </tr>\n",
       "  </tbody>\n",
       "</table>\n",
       "</div>"
      ],
      "text/plain": [
       "                                         json_string\n",
       "0  {\"0\": [{\"line\": {\"words\": [{\"text\": \"cerfa\", \"...\n",
       "1  {\"0\": [{\"line\": {\"words\": [{\"text\": \"Madame\", ...\n",
       "2  {\"0\": [{\"line\": {\"words\": [{\"text\": \"CARTE\", \"...\n",
       "3  {\"0\": [{\"line\": {\"words\": [{\"text\": \"SECURITY\"...\n",
       "4  {\"0\": [{\"line\": {\"words\": [{\"text\": \"Docteur\",..."
      ]
     },
     "execution_count": 2,
     "metadata": {},
     "output_type": "execute_result"
    }
   ],
   "source": [
    "# Open your JSON file and load it as a list of dictionaries\n",
    "with open('data/subset_epita.json') as f:\n",
    "    data_list = json.load(f)\n",
    "\n",
    "# Convert each dictionary to a JSON string and store in a new list\n",
    "json_strings = [json.dumps(item) for item in data_list]\n",
    "\n",
    "# Convert this list to a DataFrame\n",
    "df = pd.DataFrame(json_strings, columns=['json_string'])\n",
    "\n",
    "# Print the first few rows to check\n",
    "df.head()"
   ]
  },
  {
   "cell_type": "code",
   "execution_count": 3,
   "metadata": {},
   "outputs": [],
   "source": [
    "def has_document_type_id(input_dict, document_type_id):\n",
    "    if isinstance(input_dict, dict):\n",
    "        for key, value in input_dict.items():\n",
    "            if key == \"document_type_id\" and value == document_type_id:\n",
    "                return True\n",
    "            if isinstance(value, dict):\n",
    "                if has_document_type_id(value, document_type_id):\n",
    "                    return True\n",
    "            elif isinstance(value, list):\n",
    "                for item in value:\n",
    "                    if isinstance(item, dict):\n",
    "                        if has_document_type_id(item, document_type_id):\n",
    "                            return True\n",
    "    return False\n",
    "\n",
    "df = df[df['json_string'].apply(lambda x: has_document_type_id(json.loads(x), 8))]"
   ]
  },
  {
   "cell_type": "code",
   "execution_count": 4,
   "metadata": {
    "scrolled": true
   },
   "outputs": [
    {
     "data": {
      "text/html": [
       "<div>\n",
       "<style scoped>\n",
       "    .dataframe tbody tr th:only-of-type {\n",
       "        vertical-align: middle;\n",
       "    }\n",
       "\n",
       "    .dataframe tbody tr th {\n",
       "        vertical-align: top;\n",
       "    }\n",
       "\n",
       "    .dataframe thead th {\n",
       "        text-align: right;\n",
       "    }\n",
       "</style>\n",
       "<table border=\"1\" class=\"dataframe\">\n",
       "  <thead>\n",
       "    <tr style=\"text-align: right;\">\n",
       "      <th></th>\n",
       "      <th>json_string</th>\n",
       "    </tr>\n",
       "  </thead>\n",
       "  <tbody>\n",
       "    <tr>\n",
       "      <th>5</th>\n",
       "      <td>{\"0\": [{\"line\": {\"words\": [{\"text\": \"From\", \"w...</td>\n",
       "    </tr>\n",
       "    <tr>\n",
       "      <th>75</th>\n",
       "      <td>{\"0\": [{\"line\": {\"words\": [{\"text\": \"PARTIE\", ...</td>\n",
       "    </tr>\n",
       "    <tr>\n",
       "      <th>99</th>\n",
       "      <td>{\"0\": [{\"line\": {\"words\": [{\"text\": \"LABORATOI...</td>\n",
       "    </tr>\n",
       "    <tr>\n",
       "      <th>117</th>\n",
       "      <td>{\"0\": [{\"line\": {\"words\": [{\"text\": \"LE\", \"wid...</td>\n",
       "    </tr>\n",
       "    <tr>\n",
       "      <th>119</th>\n",
       "      <td>{\"0\": [{\"line\": {\"words\": [{\"text\": \"Mme\", \"wi...</td>\n",
       "    </tr>\n",
       "    <tr>\n",
       "      <th>...</th>\n",
       "      <td>...</td>\n",
       "    </tr>\n",
       "    <tr>\n",
       "      <th>2477</th>\n",
       "      <td>{\"0\": [{\"line\": {\"words\": [{\"text\": \"From\", \"w...</td>\n",
       "    </tr>\n",
       "    <tr>\n",
       "      <th>2500</th>\n",
       "      <td>{\"0\": [{\"line\": {\"words\": [{\"text\": \"22.5.2020...</td>\n",
       "    </tr>\n",
       "    <tr>\n",
       "      <th>2530</th>\n",
       "      <td>{\"0\": [{\"line\": {\"words\": [{\"text\": \"Laboratoi...</td>\n",
       "    </tr>\n",
       "    <tr>\n",
       "      <th>2545</th>\n",
       "      <td>{\"0\": [{\"line\": {\"words\": [{\"text\": \"Laboratoi...</td>\n",
       "    </tr>\n",
       "    <tr>\n",
       "      <th>2630</th>\n",
       "      <td>{\"0\": [{\"line\": {\"words\": [{\"text\": \"LE\", \"wid...</td>\n",
       "    </tr>\n",
       "  </tbody>\n",
       "</table>\n",
       "<p>70 rows × 1 columns</p>\n",
       "</div>"
      ],
      "text/plain": [
       "                                            json_string\n",
       "5     {\"0\": [{\"line\": {\"words\": [{\"text\": \"From\", \"w...\n",
       "75    {\"0\": [{\"line\": {\"words\": [{\"text\": \"PARTIE\", ...\n",
       "99    {\"0\": [{\"line\": {\"words\": [{\"text\": \"LABORATOI...\n",
       "117   {\"0\": [{\"line\": {\"words\": [{\"text\": \"LE\", \"wid...\n",
       "119   {\"0\": [{\"line\": {\"words\": [{\"text\": \"Mme\", \"wi...\n",
       "...                                                 ...\n",
       "2477  {\"0\": [{\"line\": {\"words\": [{\"text\": \"From\", \"w...\n",
       "2500  {\"0\": [{\"line\": {\"words\": [{\"text\": \"22.5.2020...\n",
       "2530  {\"0\": [{\"line\": {\"words\": [{\"text\": \"Laboratoi...\n",
       "2545  {\"0\": [{\"line\": {\"words\": [{\"text\": \"Laboratoi...\n",
       "2630  {\"0\": [{\"line\": {\"words\": [{\"text\": \"LE\", \"wid...\n",
       "\n",
       "[70 rows x 1 columns]"
      ]
     },
     "execution_count": 4,
     "metadata": {},
     "output_type": "execute_result"
    }
   ],
   "source": [
    "df"
   ]
  },
  {
   "cell_type": "markdown",
   "metadata": {},
   "source": [
    "# Code"
   ]
  },
  {
   "cell_type": "code",
   "execution_count": 5,
   "metadata": {},
   "outputs": [],
   "source": [
    "units = ['ag/ac', 'mui/i', 'mmoles/l', 'nmol/l', 'total/hdl', 'fl', 't/l', 'ui/i', 'meg/l', 'meq/l', 'téra/l', 'ufc/ml', 'uui/ml', 'umol/l', 'mg/mmol', 'ifu/ml', 'cfu/ml', 'g/l', 'a/g', 'ug/l', 'ui/ml', 'g/dl', 'ml', '/s', '/ml', 'pmol/l', 'e/s', 'u/i', 'nmoles/l', 'u/l', 'hdl/ldl', 'umol/l', 'immoles/l', 'ui/', 'ifu/ml', 'ng/l', 'mg/l', 'cfu/ml', 'mui/ml', 't/chol', 'ct/ng', 'mui/ml', 'mg/l', '/w', 'g/l', 'mmol/mol', '/cmia', 'ul/ml', 'mmol/l', 'mmol/l', 'giga/', 'g/l', 'uréase/', 'u/l', 'mul/ml', 'ug/l', 's/co', 'ui/l', 'pui/ml', 'pg/l', 'uui/ml', '/l', 'tera/l', 'mui/l', 'aebel/', 'pg/ml', 'fr/access', 'mui/l', 'ml/min', 'ui/ml', 'ml/min/an', 'ul/ml', 'ufc/ml', 'meq/l', 'u/ml', 'ml/min', 'umol/i', 'g/dl', 'ng/ml', 'lt/sh', 'ng/ml', 'gpo/pap', 'nmol/l', 'ui/ml', 't/l', 'pg/ml', 'mu/', 'giga/l', 'g/l', 'pmol/l', 'ml/mn', \"%\", 'g/w', 'e/vs', 'a/l', 'mu/i', 'pg']"
   ]
  },
  {
   "cell_type": "code",
   "execution_count": 6,
   "metadata": {},
   "outputs": [],
   "source": [
    "def verify_digit(word):\n",
    "    return word.replace(\".\", \"\", 1).isdigit() or word.replace(\" \", \"\", 1).isdigit() or word.replace(\",\", \"\", 1).isdigit()"
   ]
  },
  {
   "cell_type": "code",
   "execution_count": 7,
   "metadata": {
    "scrolled": true
   },
   "outputs": [],
   "source": [
    "def find_unit_value(entity_name, entities_dict, index, data):\n",
    "    value = None\n",
    "    unit = None\n",
    "\n",
    "    # Recherche de la première valeur numérique et la première unité après le marqueur\n",
    "    for next_index in range(index, len(data)):\n",
    "        next_item = data[next_index]\n",
    "        next_line = next_item[\"line\"]\n",
    "        next_words = [word[\"text\"].replace(\":\", \"\", 1) for word in next_line[\"words\"]]\n",
    "        next_text = \" \".join(next_words)\n",
    "\n",
    "        # Recherche de la valeur dans la ligne\n",
    "        if value is None:\n",
    "            for i in range(len(next_words)):\n",
    "                if verify_digit(next_words[i]):\n",
    "                    value = next_words[i]\n",
    "                    if i > 0 and (next_words[i - 1] == '<' or next_words[i - 1] == '>'):\n",
    "                        value = next_words[i-1] + ' ' + value\n",
    "                    break\n",
    "\n",
    "        # Recherche de l'unité dans la ligne\n",
    "        if unit is None:\n",
    "            for i in range(len(next_words)):\n",
    "                # Faire un truc pour les unités par rapport au entity_name\n",
    "                if next_words[i].lower() in units:\n",
    "                    unit = next_words[i]\n",
    "                    break\n",
    "\n",
    "        # Si la valeur et l'unité ont été trouvées, sortie de la boucle\n",
    "        if value and unit:\n",
    "            break\n",
    "\n",
    "    # Si la valeur et l'unité ont été trouvées, stockage des informations dans le dictionnaire des entités\n",
    "    if value and unit:\n",
    "        if entity_name in entities_dict :\n",
    "            entities_dict[entity_name + str(len(entities_dict.keys()))] = {\"value\": value, \"unit\": unit}\n",
    "        else:\n",
    "            entities_dict[entity_name] = {\"value\": value, \"unit\": unit}\n",
    "\n",
    "def find_through_lines(val, entities_dict):\n",
    "    for index, item in enumerate(val) :\n",
    "        line = item[\"line\"]\n",
    "        words = [re.sub(r\"^\\W+|\\W+$\", \"\", word[\"text\"].lower().replace(\"*\", \"\", 1)) for word in line[\"words\"]]\n",
    "        text = \" \".join(words)\n",
    "\n",
    "        if \"v.g.m\" in words:\n",
    "            find_unit_value(\"v.g.m\", entities_dict, index, val)\n",
    "\n",
    "        elif \"hémoglobine\" in words:\n",
    "            find_unit_value(\"hémoglobine\", entities_dict, index, val)\n",
    "\n",
    "        elif \"t.c.m.h.\" in words or \"t.c.m.h\" in words:\n",
    "            find_unit_value(\"t.c.m.h\", entities_dict, index, val)\n",
    "\n",
    "        elif \"c.c.m.h.\" in words or \"c.c.m.h\" in words:\n",
    "            find_unit_value(\"c.c.m.h\", entities_dict, index, val)\n",
    "                \n",
    "        elif \"leucocytes\" in words:\n",
    "            find_unit_value(\"leucocytes\", entities_dict, index, val)\n",
    "        \n",
    "        elif \"hématies\" in words or \"hematies\" in words:\n",
    "            find_unit_value(\"hématies\", entities_dict, index, val)\n",
    "        \n",
    "        elif \"creatinine\" in words:\n",
    "            find_unit_value(\"creatinine\", entities_dict, index, val)\n",
    "        \n",
    "        elif \"transaminases\" in words:\n",
    "            find_unit_value(\"transaminases\", entities_dict, index, val)\n",
    "        \n",
    "        elif \"enzymologie\" in words:\n",
    "            find_unit_value(\"enzymologie\", entities_dict, index, val)\n",
    "        \n",
    "        elif \"ckd-epi\" in words:\n",
    "            find_unit_value(\"ckd-epi\", entities_dict, index, val)\n",
    "        \n",
    "        elif \"hématocrite\" in words:\n",
    "            find_unit_value(\"hématocrite\", entities_dict, index, val)\n",
    "        \n",
    "        elif \"idr\" in words:\n",
    "            find_unit_value(\"idr\", entities_dict, index, val)\n",
    "        \n",
    "        elif \"b12\" in words:\n",
    "            find_unit_value(\"b12\", entities_dict, index, val)\n",
    "        \n",
    "        elif \"enzymatique\" in words:\n",
    "            find_unit_value(\"enzymatique\", entities_dict, index, val)\n",
    "            \n",
    "        elif all(elem in words for elem in ['volume', 'globulaire', 'moyen']):\n",
    "            find_unit_value(\"globulaire\", entities_dict, index, val)\n",
    "            \n",
    "        elif \"neutrophiles\" in words:\n",
    "            find_unit_value(\"neutrophiles\", entities_dict, index, val)\n",
    "        \n",
    "        elif \"eosinophiles\" in words:\n",
    "            find_unit_value(\"eosinophiles\", entities_dict, index, val)\n",
    "        \n",
    "        elif \"basophiles\" in words:\n",
    "            find_unit_value(\"basophiles\", entities_dict, index, val)\n",
    "        \n",
    "        elif \"lymphocytes\" in words:\n",
    "            find_unit_value(\"lymphocytes\", entities_dict, index, val)\n",
    "        \n",
    "        elif \"monocytes\" in words :\n",
    "            find_unit_value(\"monocytes\", entities_dict, index, val)\n",
    "        \n",
    "        elif \"plaquettes\" in words:\n",
    "            find_unit_value(\"plaquettes X\", entities_dict, index, val)\n",
    "            \n",
    "def iterate_over_all_docs(dataframe, entities_dict):\n",
    "    for doc in dataframe['json_string'] :\n",
    "        doc_dict = json.loads(doc)\n",
    "        for val in doc_dict.values():\n",
    "            if type(val) is not list :\n",
    "                continue\n",
    "            find_through_lines(val, entities_dict)\n",
    "    # Affichage des informations extraites\n",
    "    for entity, info in entities.items():\n",
    "        print(f\"{entity}:\")\n",
    "        print(f\"Valeur: {info['value']}\")\n",
    "        print(f\"Unité: {info['unit']}\")\n",
    "        print()\n",
    "            \n",
    "def search_doc(doc, entities_dict):\n",
    "    for val in doc.values():\n",
    "        if type(val) is not list:\n",
    "            continue\n",
    "        find_through_lines(val, entities_dict)\n",
    "    return entities_dict"
   ]
  },
  {
   "cell_type": "markdown",
   "metadata": {},
   "source": [
    "# Test"
   ]
  },
  {
   "cell_type": "markdown",
   "metadata": {},
   "source": [
    "#### Texte 5"
   ]
  },
  {
   "cell_type": "code",
   "execution_count": 8,
   "metadata": {
    "scrolled": true
   },
   "outputs": [
    {
     "data": {
      "text/plain": [
       "{'leucocytes': {'value': '5 000', 'unit': '/mL'},\n",
       " 'hématies': {'value': '< 1000', 'unit': '/mL'}}"
      ]
     },
     "execution_count": 8,
     "metadata": {},
     "output_type": "execute_result"
    }
   ],
   "source": [
    "search_doc(json.loads(df['json_string'][5]), {})"
   ]
  },
  {
   "attachments": {
    "image.png": {
     "image/png": "[encoded data removed]"
    }
   },
   "cell_type": "markdown",
   "metadata": {},
   "source": [
    "#### Texte 117\n",
    "\n",
    "Quand on remet en format PDF, on voit bien que 8,0 est sur la même ligne que le mot ``Enzymatique`` mais lorsqu'on affiche les mots de cette ligne, il n'apparait pas.\n",
    "![image.png](attachment:image.png)"
   ]
  },
  {
   "cell_type": "code",
   "execution_count": 9,
   "metadata": {
    "scrolled": true
   },
   "outputs": [
    {
     "data": {
      "text/plain": [
       "{'creatinine': {'value': '70,8', 'unit': 'umol/L'},\n",
       " 'enzymatique': {'value': '122,42', 'unit': 'U/I'},\n",
       " 'ckd-epi': {'value': '122,42', 'unit': 'U/I'},\n",
       " 'ckd-epi3': {'value': '1', 'unit': 'U/I'},\n",
       " 'ckd-epi4': {'value': '75', 'unit': 'U/I'},\n",
       " 'enzymologie': {'value': '28', 'unit': 'U/I'},\n",
       " 'transaminases': {'value': '28', 'unit': 'U/I'}}"
      ]
     },
     "execution_count": 9,
     "metadata": {},
     "output_type": "execute_result"
    }
   ],
   "source": [
    "search_doc(json.loads(df['json_string'][117]), {})"
   ]
  },
  {
   "cell_type": "markdown",
   "metadata": {},
   "source": [
    "L'algorithme peut poser des problèmes sur des mots qui ne sont pas des marqueurs donc il faut faire attention à ce qu'on cherche.\n",
    "Par exemple ``Enzymologie`` n'est pas un marqueur mais notre fonction cherche la valeur numérique et l'unité la plus proche du mot cherché."
   ]
  },
  {
   "cell_type": "markdown",
   "metadata": {},
   "source": [
    "#### Texte 160"
   ]
  },
  {
   "cell_type": "code",
   "execution_count": 10,
   "metadata": {
    "scrolled": true
   },
   "outputs": [
    {
     "data": {
      "text/plain": [
       "{'leucocytes': {'value': '5,1', 'unit': 'G/L'},\n",
       " 'hématies': {'value': '3,99', 'unit': 'Téra/l'},\n",
       " 'hémoglobine': {'value': '12,5', 'unit': 'g/dL'},\n",
       " 'hématocrite': {'value': '37,2', 'unit': '%'},\n",
       " 'globulaire': {'value': '93', 'unit': 'fL'},\n",
       " 't.c.m.h': {'value': '31,3', 'unit': 'pg'},\n",
       " 'c.c.m.h': {'value': '33,5', 'unit': 'g/dL'},\n",
       " 'idr': {'value': '13,0', 'unit': '%'},\n",
       " 'neutrophiles': {'value': '57,6', 'unit': '%'},\n",
       " 'eosinophiles': {'value': '1,4', 'unit': '%'},\n",
       " 'basophiles': {'value': '0,6', 'unit': '%'},\n",
       " 'lymphocytes': {'value': '30,6', 'unit': '%'},\n",
       " 'monocytes': {'value': '9,8', 'unit': '%'},\n",
       " 'plaquettes X': {'value': '222', 'unit': 'G/L'},\n",
       " 'b12': {'value': '339', 'unit': 'pg/ml'}}"
      ]
     },
     "execution_count": 10,
     "metadata": {},
     "output_type": "execute_result"
    }
   ],
   "source": [
    "search_doc(json.loads(df['json_string'][160]), {})"
   ]
  },
  {
   "attachments": {
    "image-2.png": {
     "image/png": "[encoded data removed]"
    }
   },
   "cell_type": "markdown",
   "metadata": {},
   "source": [
    "![image-2.png](attachment:image-2.png)\n",
    "Pour l'instant on récupère la première valeur donc ici le pourcentage."
   ]
  },
  {
   "cell_type": "markdown",
   "metadata": {},
   "source": [
    "## Contraintes"
   ]
  },
  {
   "cell_type": "markdown",
   "metadata": {},
   "source": [
    "Pour que notre code fonctionne correctement avec tous les types de document, il faut renseigner toutes les unités possibles. C'est l'un des plus gros désavantages. Il faut faire de même pour les marqueurs qu'on cherche mais le nom des marqueurs peuvent varier selon les documents. Par exemple ``T.C.M.H`` et ``T.C.M.H.`` ou encore parfois il y a un symbole dans le mot qui fait qu'on ne le reconnait plus : ``CREATININE*`` ou ``pg/ml:``.\n",
    "\n",
    "Pour améliorer la recherche, on aurait besoin de la liste des unités pour chaque marqueurs pour éviter de chercher une unité qui ne correspond pas à un marqueur."
   ]
  }
 ],
 "metadata": {
  "kernelspec": {
   "display_name": "Python 3",
   "language": "python",
   "name": "python3"
  },
  "language_info": {
   "codemirror_mode": {
    "name": "ipython",
    "version": 3
   },
   "file_extension": ".py",
   "mimetype": "text/x-python",
   "name": "python",
   "nbconvert_exporter": "python",
   "pygments_lexer": "ipython3",
   "version": "3.8.5"
  }
 },
 "nbformat": 4,
 "nbformat_minor": 4
}
